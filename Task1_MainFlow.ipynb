{
 "cells": [
  {
   "cell_type": "markdown",
   "id": "062ffd0a-59b2-4df1-9535-2e186d504119",
   "metadata": {},
   "source": [
    "LIST OPERATIONS"
   ]
  },
  {
   "cell_type": "code",
   "execution_count": 2,
   "id": "0a032aef-09e3-46d5-829a-a5d7dbbc3188",
   "metadata": {},
   "outputs": [
    {
     "name": "stdout",
     "output_type": "stream",
     "text": [
      "Original List: [1, 2, 3, 4, 5]\n"
     ]
    }
   ],
   "source": [
    "# Create a list\n",
    "my_list = [1, 2, 3, 4, 5]\n",
    "\n",
    "# Display original list\n",
    "print(\"Original List:\", my_list)"
   ]
  },
  {
   "cell_type": "code",
   "execution_count": 3,
   "id": "f8f0a977-7277-475b-ad01-053bed7065fb",
   "metadata": {},
   "outputs": [
    {
     "name": "stdout",
     "output_type": "stream",
     "text": [
      "List after adding elements: [1, 2, 3, 4, 5, 6]\n"
     ]
    }
   ],
   "source": [
    "# Adding elements\n",
    "my_list.append(6)\n",
    "\n",
    "# Display after adding elements\n",
    "print(\"List after adding elements:\", my_list)"
   ]
  },
  {
   "cell_type": "code",
   "execution_count": 4,
   "id": "383945eb-997b-4e70-8cfc-d8d2345211c3",
   "metadata": {},
   "outputs": [
    {
     "name": "stdout",
     "output_type": "stream",
     "text": [
      "List after removing elements: [1, 2, 4, 5, 6]\n"
     ]
    }
   ],
   "source": [
    "# Removing elements\n",
    "my_list.remove(3)\n",
    "\n",
    "# Display after removing elements\n",
    "print(\"List after removing elements:\", my_list)"
   ]
  },
  {
   "cell_type": "code",
   "execution_count": 5,
   "id": "1fd69ee0-e9a6-4dec-af86-46dfc6d09963",
   "metadata": {},
   "outputs": [
    {
     "name": "stdout",
     "output_type": "stream",
     "text": [
      "List after modifying elements: [1, 2, 10, 5, 6]\n"
     ]
    }
   ],
   "source": [
    "# Modifying elements\n",
    "my_list[2] = 10\n",
    "\n",
    "# Display after modifying elements\n",
    "print(\"List after modifying elements:\", my_list)"
   ]
  },
  {
   "cell_type": "markdown",
   "id": "90cde238-65c6-4e71-802f-ad5a117d8026",
   "metadata": {},
   "source": [
    "DICTIONARY OPERATIONS"
   ]
  },
  {
   "cell_type": "code",
   "execution_count": 6,
   "id": "02f66391-4b1e-437c-adeb-89998106b5a0",
   "metadata": {},
   "outputs": [
    {
     "name": "stdout",
     "output_type": "stream",
     "text": [
      "\n",
      "Original Dictionary: {'a': 1, 'b': 2, 'c': 3}\n"
     ]
    }
   ],
   "source": [
    "# Create a dictionary\n",
    "my_dict = {'a': 1, 'b': 2, 'c': 3}\n",
    "\n",
    "# Display original dictionary\n",
    "print(\"\\nOriginal Dictionary:\", my_dict)"
   ]
  },
  {
   "cell_type": "code",
   "execution_count": 7,
   "id": "7d1b191e-f729-4321-b74b-af36e2fa8f09",
   "metadata": {},
   "outputs": [
    {
     "name": "stdout",
     "output_type": "stream",
     "text": [
      "Dictionary after adding elements: {'a': 1, 'b': 2, 'c': 3, 'd': 4}\n"
     ]
    }
   ],
   "source": [
    "# Adding elements\n",
    "my_dict['d'] = 4\n",
    "\n",
    "# Display after adding elements\n",
    "print(\"Dictionary after adding elements:\", my_dict)"
   ]
  },
  {
   "cell_type": "code",
   "execution_count": 8,
   "id": "d0fa0f67-152c-40c4-8ba2-9c81699c8993",
   "metadata": {},
   "outputs": [
    {
     "name": "stdout",
     "output_type": "stream",
     "text": [
      "Dictionary after removing elements: {'a': 1, 'c': 3, 'd': 4}\n"
     ]
    }
   ],
   "source": [
    "# Removing elements\n",
    "my_dict.pop('b')\n",
    "\n",
    "# Display after removing elements\n",
    "print(\"Dictionary after removing elements:\", my_dict)"
   ]
  },
  {
   "cell_type": "code",
   "execution_count": 9,
   "id": "b5721227-dc31-4717-a12b-556bbd0cd6bf",
   "metadata": {},
   "outputs": [
    {
     "name": "stdout",
     "output_type": "stream",
     "text": [
      "Dictionary after modifying elements: {'a': 'apple', 'c': 3, 'd': 4}\n"
     ]
    }
   ],
   "source": [
    "# Modifying elements\n",
    "my_dict['a'] = 'apple'\n",
    "\n",
    "# Display after modifying elements\n",
    "print(\"Dictionary after modifying elements:\", my_dict)"
   ]
  },
  {
   "cell_type": "markdown",
   "id": "c36b7852-e84c-4268-b11f-416ec127cac6",
   "metadata": {},
   "source": [
    "SET OPERATIONS"
   ]
  },
  {
   "cell_type": "code",
   "execution_count": 10,
   "id": "42499e45-c368-44ae-9661-d1c2655d2b23",
   "metadata": {},
   "outputs": [
    {
     "name": "stdout",
     "output_type": "stream",
     "text": [
      "\n",
      "Original Set: {1, 2, 3, 4, 5}\n"
     ]
    }
   ],
   "source": [
    "# Create a set\n",
    "my_set = {1, 2, 3, 4, 5}\n",
    "\n",
    "# Display original set\n",
    "print(\"\\nOriginal Set:\", my_set)"
   ]
  },
  {
   "cell_type": "code",
   "execution_count": 11,
   "id": "f2250d0e-1203-48d5-bf55-f0cb0d721eb8",
   "metadata": {},
   "outputs": [
    {
     "name": "stdout",
     "output_type": "stream",
     "text": [
      "Set after adding elements: {1, 2, 3, 4, 5, 6}\n"
     ]
    }
   ],
   "source": [
    "# Adding elements\n",
    "my_set.add(6)\n",
    "\n",
    "# Display after adding elements\n",
    "print(\"Set after adding elements:\", my_set)\n"
   ]
  },
  {
   "cell_type": "code",
   "execution_count": 12,
   "id": "8e9e3b84-b720-4415-95fd-e356fa03b789",
   "metadata": {},
   "outputs": [
    {
     "name": "stdout",
     "output_type": "stream",
     "text": [
      "Set after removing elements: {1, 2, 3, 5, 6}\n"
     ]
    }
   ],
   "source": [
    "# Removing elements\n",
    "my_set.remove(4)\n",
    "\n",
    "# Display after removing elements\n",
    "print(\"Set after removing elements:\", my_set)"
   ]
  },
  {
   "cell_type": "code",
   "execution_count": null,
   "id": "07e1f57b-849f-4401-b9ef-7ac4e92a7ec3",
   "metadata": {},
   "outputs": [],
   "source": []
  }
 ],
 "metadata": {
  "kernelspec": {
   "display_name": "Python 3 (ipykernel)",
   "language": "python",
   "name": "python3"
  },
  "language_info": {
   "codemirror_mode": {
    "name": "ipython",
    "version": 3
   },
   "file_extension": ".py",
   "mimetype": "text/x-python",
   "name": "python",
   "nbconvert_exporter": "python",
   "pygments_lexer": "ipython3",
   "version": "3.12.1"
  }
 },
 "nbformat": 4,
 "nbformat_minor": 5
}
